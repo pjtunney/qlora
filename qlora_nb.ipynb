{
 "cells": [
  {
   "cell_type": "code",
   "execution_count": 3,
   "id": "b347593b-535e-4618-9ec3-0c511423d851",
   "metadata": {},
   "outputs": [
    {
     "name": "stdout",
     "output_type": "stream",
     "text": [
      "\n",
      "===================================BUG REPORT===================================\n",
      "Welcome to bitsandbytes. For bug reports, please run\n",
      "\n",
      "python -m bitsandbytes\n",
      "\n",
      " and submit this information together with your error trace to: https://github.com/TimDettmers/bitsandbytes/issues\n",
      "================================================================================\n",
      "bin /usr/local/lib/python3.10/dist-packages/bitsandbytes/libbitsandbytes_cuda118.so\n",
      "CUDA_SETUP: WARNING! libcudart.so not found in any environmental path. Searching in backup paths...\n",
      "CUDA SETUP: CUDA runtime path found: /usr/local/cuda/lib64/libcudart.so.11.0\n",
      "CUDA SETUP: Highest compute capability among GPUs detected: 8.9\n",
      "CUDA SETUP: Detected CUDA version 118\n",
      "CUDA SETUP: Loading binary /usr/local/lib/python3.10/dist-packages/bitsandbytes/libbitsandbytes_cuda118.so...\n"
     ]
    },
    {
     "name": "stderr",
     "output_type": "stream",
     "text": [
      "/usr/local/lib/python3.10/dist-packages/bitsandbytes/cuda_setup/main.py:149: UserWarning: WARNING: The following directories listed in your path were found to be non-existent: {PosixPath('/usr/local/nvidia/lib64'), PosixPath('/usr/local/nvidia/lib')}\n",
      "  warn(msg)\n",
      "/usr/local/lib/python3.10/dist-packages/bitsandbytes/cuda_setup/main.py:149: UserWarning: /usr/local/nvidia/lib:/usr/local/nvidia/lib64 did not contain ['libcudart.so', 'libcudart.so.11.0', 'libcudart.so.12.0'] as expected! Searching further paths...\n",
      "  warn(msg)\n",
      "/usr/local/lib/python3.10/dist-packages/bitsandbytes/cuda_setup/main.py:149: UserWarning: WARNING: The following directories listed in your path were found to be non-existent: {PosixPath('ssh-rsa AAAAB3NzaC1yc2EAAAADAQABAAABAQC60Ey9M54lWyeeBaypVbG69/FeQ4pm7iNqI0TWpWcBuL3FCOcb5mPNMzUN2VKamef0blFLQJcD0K9LCADiysQEfKOQHReVvMt+Ij4kQIQyVj6h9vbrPF1yLqyj/Sg5gwZlpudB7xLux+VCX9HvkctAqf/svVxqy9c65B3jFVyeIvKwhgRotXpVKBk9q8zccHpWoWjW+HXU3xQkB1QadRj1TgJk1R7iDRePptgUjTFwBp8KyWEH9A23i7pWbMbhgm7tmSW4mE1r/rrS+P5KlH6bShCGlV90o7RMZngUkR06ruwcr+hvu+Xjr1II8hVWUxEHFOqj4dGqMUOmPtScNE2T patrick@speedlemur.local')}\n",
      "  warn(msg)\n",
      "/usr/local/lib/python3.10/dist-packages/bitsandbytes/cuda_setup/main.py:149: UserWarning: WARNING: The following directories listed in your path were found to be non-existent: {PosixPath('//matplotlib_inline.backend_inline'), PosixPath('module')}\n",
      "  warn(msg)\n",
      "/usr/local/lib/python3.10/dist-packages/bitsandbytes/cuda_setup/main.py:149: UserWarning: Found duplicate ['libcudart.so', 'libcudart.so.11.0', 'libcudart.so.12.0'] files: {PosixPath('/usr/local/cuda/lib64/libcudart.so.11.0'), PosixPath('/usr/local/cuda/lib64/libcudart.so')}.. We'll flip a coin and try one of these, in order to fail forward.\n",
      "Either way, this might cause trouble in the future:\n",
      "If you get `CUDA error: invalid device function` errors, the above might be the cause and the solution is to make sure only one ['libcudart.so', 'libcudart.so.11.0', 'libcudart.so.12.0'] in the paths that we search based on your env.\n",
      "  warn(msg)\n"
     ]
    }
   ],
   "source": [
    "# This source code is licensed under the MIT license found in the\n",
    "# LICENSE file in the root directory of this source tree.\n",
    "\n",
    "from collections import defaultdict\n",
    "import copy\n",
    "import json\n",
    "import os\n",
    "from os.path import exists, join, isdir\n",
    "from dataclasses import dataclass, field\n",
    "import sys\n",
    "from typing import Optional, Dict, Sequence\n",
    "import numpy as np\n",
    "from tqdm import tqdm\n",
    "import logging\n",
    "import bitsandbytes as bnb\n",
    "import pandas as pd\n",
    "import importlib\n",
    "from packaging import version\n",
    "from packaging.version import parse\n",
    "\n",
    "import torch\n",
    "import transformers\n",
    "from torch.nn.utils.rnn import pad_sequence\n",
    "import argparse\n",
    "from transformers import (\n",
    "    AutoTokenizer,\n",
    "    AutoModelForCausalLM,\n",
    "    set_seed,\n",
    "    Seq2SeqTrainer,\n",
    "    BitsAndBytesConfig,\n",
    "    LlamaTokenizer\n",
    "\n",
    ")\n",
    "from datasets import load_dataset, Dataset\n",
    "import evaluate\n",
    "\n",
    "from peft import (\n",
    "    prepare_model_for_kbit_training,\n",
    "    LoraConfig,\n",
    "    get_peft_model,\n",
    "    PeftModel\n",
    ")\n",
    "from peft.tuners.lora import LoraLayer\n",
    "from transformers.trainer_utils import PREFIX_CHECKPOINT_DIR\n",
    "\n",
    "\n",
    "def is_ipex_available():\n",
    "    def get_major_and_minor_from_version(full_version):\n",
    "        return str(version.parse(full_version).major) + \".\" + str(version.parse(full_version).minor)\n",
    "\n",
    "    _torch_version = importlib.metadata.version(\"torch\")\n",
    "    if importlib.util.find_spec(\"intel_extension_for_pytorch\") is None:\n",
    "        return False\n",
    "    _ipex_version = \"N/A\"\n",
    "    try:\n",
    "        _ipex_version = importlib.metadata.version(\"intel_extension_for_pytorch\")\n",
    "    except importlib.metadata.PackageNotFoundError:\n",
    "        return False\n",
    "    torch_major_and_minor = get_major_and_minor_from_version(_torch_version)\n",
    "    ipex_major_and_minor = get_major_and_minor_from_version(_ipex_version)\n",
    "    if torch_major_and_minor != ipex_major_and_minor:\n",
    "        warnings.warn(\n",
    "            f\"Intel Extension for PyTorch {ipex_major_and_minor} needs to work with PyTorch {ipex_major_and_minor}.*,\"\n",
    "            f\" but PyTorch {_torch_version} is found. Please switch to the matching version and run again.\"\n",
    "        )\n",
    "        return False\n",
    "    return True\n",
    "    \n",
    "\n",
    "if torch.cuda.is_available():   \n",
    "    torch.backends.cuda.matmul.allow_tf32 = True\n",
    "\n",
    "logger = logging.getLogger(__name__)\n",
    "\n",
    "IGNORE_INDEX = -100\n",
    "DEFAULT_PAD_TOKEN = \"[PAD]\""
   ]
  },
  {
   "cell_type": "code",
   "execution_count": 4,
   "id": "5f6b6cc5-fa63-4fe7-88bd-c3e8966c357d",
   "metadata": {},
   "outputs": [],
   "source": [
    "def find_all_linear_names(args, model):\n",
    "    cls = bnb.nn.Linear4bit if args.bits == 4 else (bnb.nn.Linear8bitLt if args.bits == 8 else torch.nn.Linear)\n",
    "    lora_module_names = set()\n",
    "    for name, module in model.named_modules():\n",
    "        if isinstance(module, cls):\n",
    "            names = name.split('.')\n",
    "            lora_module_names.add(names[0] if len(names) == 1 else names[-1])\n",
    "\n",
    "\n",
    "    if 'lm_head' in lora_module_names: # needed for 16-bit\n",
    "        lora_module_names.remove('lm_head')\n",
    "    return list(lora_module_names)\n",
    "\n",
    "\n",
    "class SavePeftModelCallback(transformers.TrainerCallback):\n",
    "    def save_model(self, args, state, kwargs):\n",
    "        print('Saving PEFT checkpoint...')\n",
    "        if state.best_model_checkpoint is not None:\n",
    "            checkpoint_folder = os.path.join(state.best_model_checkpoint, \"adapter_model\")\n",
    "        else:\n",
    "            checkpoint_folder = os.path.join(args.output_dir, f\"{PREFIX_CHECKPOINT_DIR}-{state.global_step}\")\n",
    "\n",
    "        peft_model_path = os.path.join(checkpoint_folder, \"adapter_model\")\n",
    "        kwargs[\"model\"].save_pretrained(peft_model_path)\n",
    "\n",
    "        pytorch_model_path = os.path.join(checkpoint_folder, \"pytorch_model.bin\")\n",
    "        if os.path.exists(pytorch_model_path):\n",
    "            os.remove(pytorch_model_path)\n",
    "\n",
    "    def on_save(self, args, state, control, **kwargs):\n",
    "        self.save_model(args, state, kwargs)\n",
    "        return control\n",
    "\n",
    "    def on_train_end(self, args, state, control, **kwargs):\n",
    "        def touch(fname, times=None):\n",
    "            with open(fname, 'a'):\n",
    "                os.utime(fname, times)\n",
    "\n",
    "        touch(join(args.output_dir, 'completed'))\n",
    "        self.save_model(args, state, kwargs)\n",
    "\n",
    "def get_accelerate_model(args, checkpoint_dir):\n",
    "\n",
    "    if torch.cuda.is_available():\n",
    "        n_gpus = torch.cuda.device_count()\n",
    "    if is_ipex_available() and torch.xpu.is_available():\n",
    "        n_gpus = torch.xpu.device_count()\n",
    "        \n",
    "    max_memory = f'{args.max_memory_MB}MB'\n",
    "    max_memory = {i: max_memory for i in range(n_gpus)}\n",
    "    device_map = \"auto\"\n",
    "\n",
    "    # if we are in a distributed setting, we need to set the device map and max memory per device\n",
    "    if os.environ.get('LOCAL_RANK') is not None:\n",
    "        local_rank = int(os.environ.get('LOCAL_RANK', '0'))\n",
    "        device_map = {'': local_rank}\n",
    "        max_memory = {'': max_memory[local_rank]}\n",
    "\n",
    "\n",
    "    if args.full_finetune: assert args.bits in [16, 32]\n",
    "\n",
    "    print(f'loading base model {args.model_name_or_path}...')\n",
    "    compute_dtype = (torch.float16 if args.fp16 else (torch.bfloat16 if args.bf16 else torch.float32))\n",
    "    model = AutoModelForCausalLM.from_pretrained(\n",
    "        args.model_name_or_path,\n",
    "        cache_dir=args.cache_dir,\n",
    "        load_in_4bit=args.bits == 4,\n",
    "        load_in_8bit=args.bits == 8,\n",
    "        device_map=device_map,\n",
    "        max_memory=max_memory,\n",
    "        quantization_config=BitsAndBytesConfig(\n",
    "            load_in_4bit=args.bits == 4,\n",
    "            load_in_8bit=args.bits == 8,\n",
    "            llm_int8_threshold=6.0,\n",
    "            llm_int8_has_fp16_weight=False,\n",
    "            bnb_4bit_compute_dtype=compute_dtype,\n",
    "            bnb_4bit_use_double_quant=args.double_quant,\n",
    "            bnb_4bit_quant_type=args.quant_type,\n",
    "        ),\n",
    "        torch_dtype=(torch.float32 if args.fp16 else (torch.bfloat16 if args.bf16 else torch.float32)),\n",
    "        trust_remote_code=args.trust_remote_code,\n",
    "        use_auth_token=args.use_auth_token\n",
    "    )\n",
    "    if compute_dtype == torch.float16 and args.bits == 4:\n",
    "        if torch.cuda.is_bf16_supported():\n",
    "            print('='*80)\n",
    "            print('Your GPU supports bfloat16, you can accelerate training with the argument --bf16')\n",
    "            print('='*80)\n",
    "            \n",
    "    if compute_dtype == torch.float16 and (is_ipex_available() and torch.xpu.is_available()):\n",
    "        compute_dtype = torch.bfloat16\n",
    "        print('Intel XPU does not support float16 yet, so switching to bfloat16')\n",
    "\n",
    "    setattr(model, 'model_parallel', True)\n",
    "    setattr(model, 'is_parallelizable', True)\n",
    "\n",
    "    model.config.torch_dtype=(torch.float32 if args.fp16 else (torch.bfloat16 if args.bf16 else torch.float32))\n",
    "\n",
    "    # Tokenizer\n",
    "    tokenizer = AutoTokenizer.from_pretrained(\n",
    "        args.model_name_or_path,\n",
    "        cache_dir=args.cache_dir,\n",
    "        padding_side=\"right\",\n",
    "        use_fast=False, # Fast tokenizer giving issues.\n",
    "        tokenizer_type='llama' if 'llama' in args.model_name_or_path else None, # Needed for HF name change\n",
    "        trust_remote_code=args.trust_remote_code,\n",
    "        use_auth_token=args.use_auth_token,\n",
    "    )\n",
    "    if tokenizer._pad_token is None:\n",
    "        smart_tokenizer_and_embedding_resize(\n",
    "            special_tokens_dict=dict(pad_token=DEFAULT_PAD_TOKEN),\n",
    "            tokenizer=tokenizer,\n",
    "            model=model,\n",
    "        )\n",
    "    if 'llama' in args.model_name_or_path or isinstance(tokenizer, LlamaTokenizer):\n",
    "        # LLaMA tokenizer may not have correct special tokens set.\n",
    "        # Check and add them if missing to prevent them from being parsed into different tokens.\n",
    "        # Note that these are present in the vocabulary.\n",
    "        # Note also that `model.config.pad_token_id` is 0 which corresponds to `<unk>` token.\n",
    "        print('Adding special tokens.')\n",
    "        tokenizer.add_special_tokens({\n",
    "                \"eos_token\": tokenizer.convert_ids_to_tokens(model.config.eos_token_id),\n",
    "                \"bos_token\": tokenizer.convert_ids_to_tokens(model.config.bos_token_id),\n",
    "                \"unk_token\": tokenizer.convert_ids_to_tokens(\n",
    "                    model.config.pad_token_id if model.config.pad_token_id != -1 else tokenizer.pad_token_id\n",
    "                ),\n",
    "        })\n",
    "    \n",
    "    if not args.full_finetune:\n",
    "        model = prepare_model_for_kbit_training(model, use_gradient_checkpointing=args.gradient_checkpointing)\n",
    "\n",
    "    if not args.full_finetune:\n",
    "        if checkpoint_dir is not None:\n",
    "            print(\"Loading adapters from checkpoint.\")\n",
    "            model = PeftModel.from_pretrained(model, join(checkpoint_dir, 'adapter_model'), is_trainable=True)\n",
    "        else:\n",
    "            print(f'adding LoRA modules...')\n",
    "            modules = find_all_linear_names(args, model)\n",
    "            config = LoraConfig(\n",
    "                r=args.lora_r,\n",
    "                lora_alpha=args.lora_alpha,\n",
    "                target_modules=modules,\n",
    "                lora_dropout=args.lora_dropout,\n",
    "                bias=\"none\",\n",
    "                task_type=\"CAUSAL_LM\",\n",
    "            )\n",
    "            model = get_peft_model(model, config)\n",
    "\n",
    "    for name, module in model.named_modules():\n",
    "        if isinstance(module, LoraLayer):\n",
    "            if args.bf16:\n",
    "                module = module.to(torch.bfloat16)\n",
    "        if 'norm' in name:\n",
    "            module = module.to(torch.float32)\n",
    "        if 'lm_head' in name or 'embed_tokens' in name:\n",
    "            if hasattr(module, 'weight'):\n",
    "                if args.bf16 and module.weight.dtype == torch.float32:\n",
    "                    module = module.to(torch.bfloat16)\n",
    "    return model, tokenizer\n",
    "\n",
    "def print_trainable_parameters(args, model):\n",
    "    \"\"\"\n",
    "    Prints the number of trainable parameters in the model.\n",
    "    \"\"\"\n",
    "    trainable_params = 0\n",
    "    all_param = 0\n",
    "    for _, param in model.named_parameters():\n",
    "        all_param += param.numel()\n",
    "        if param.requires_grad:\n",
    "            trainable_params += param.numel()\n",
    "    if args.bits == 4: trainable_params /= 2\n",
    "    print(\n",
    "        f\"trainable params: {trainable_params} || \"\n",
    "        f\"all params: {all_param} || \"\n",
    "        f\"trainable: {100 * trainable_params / all_param}\"\n",
    "    )"
   ]
  },
  {
   "cell_type": "code",
   "execution_count": 5,
   "id": "c094e04b-29aa-43f5-99f2-ba8968e8f689",
   "metadata": {},
   "outputs": [],
   "source": [
    "def smart_tokenizer_and_embedding_resize(\n",
    "    special_tokens_dict: Dict,\n",
    "    tokenizer: transformers.PreTrainedTokenizer,\n",
    "    model: transformers.PreTrainedModel,\n",
    "):\n",
    "    \"\"\"Resize tokenizer and embedding.\n",
    "\n",
    "    Note: This is the unoptimized version that may make your embedding size not be divisible by 64.\n",
    "    \"\"\"\n",
    "    num_new_tokens = tokenizer.add_special_tokens(special_tokens_dict)\n",
    "    model.resize_token_embeddings(len(tokenizer))\n",
    "    \n",
    "    if num_new_tokens > 0:\n",
    "        input_embeddings_data = model.get_input_embeddings().weight.data\n",
    "        output_embeddings_data = model.get_output_embeddings().weight.data\n",
    "\n",
    "        input_embeddings_avg = input_embeddings_data[:-num_new_tokens].mean(dim=0, keepdim=True)\n",
    "        output_embeddings_avg = output_embeddings_data[:-num_new_tokens].mean(dim=0, keepdim=True)\n",
    "\n",
    "        input_embeddings_data[-num_new_tokens:] = input_embeddings_avg\n",
    "        output_embeddings_data[-num_new_tokens:] = output_embeddings_avg\n",
    "\n",
    "@dataclass\n",
    "class DataCollatorForCausalLM(object):\n",
    "    tokenizer: transformers.PreTrainedTokenizer\n",
    "    source_max_len: int\n",
    "    target_max_len: int\n",
    "    train_on_source: bool\n",
    "    predict_with_generate: bool\n",
    "\n",
    "    def __call__(self, instances: Sequence[Dict]) -> Dict[str, torch.Tensor]:\n",
    "        # Extract elements\n",
    "        sources = [f\"{self.tokenizer.bos_token}{example['input']}\" for example in instances]\n",
    "        targets = [f\"{example['output']}{self.tokenizer.eos_token}\" for example in instances]\n",
    "        # Tokenize\n",
    "        tokenized_sources_with_prompt = self.tokenizer(\n",
    "            sources,\n",
    "            max_length=self.source_max_len,\n",
    "            truncation=True,\n",
    "            add_special_tokens=False,\n",
    "        )\n",
    "        tokenized_targets = self.tokenizer(\n",
    "            targets,\n",
    "            max_length=self.target_max_len,\n",
    "            truncation=True,\n",
    "            add_special_tokens=False,\n",
    "        )\n",
    "        # Build the input and labels for causal LM\n",
    "        input_ids = []\n",
    "        labels = []\n",
    "        for tokenized_source, tokenized_target in zip(\n",
    "            tokenized_sources_with_prompt['input_ids'],\n",
    "            tokenized_targets['input_ids']\n",
    "        ):\n",
    "            if not self.predict_with_generate:\n",
    "                input_ids.append(torch.tensor(tokenized_source + tokenized_target))\n",
    "                if not self.train_on_source:\n",
    "                    labels.append(\n",
    "                        torch.tensor([IGNORE_INDEX for _ in range(len(tokenized_source))] + copy.deepcopy(tokenized_target))\n",
    "                    )\n",
    "                else:\n",
    "                    labels.append(torch.tensor(copy.deepcopy(tokenized_source + tokenized_target)))\n",
    "            else:\n",
    "                input_ids.append(torch.tensor(tokenized_source))\n",
    "        # Apply padding\n",
    "        input_ids = pad_sequence(input_ids, batch_first=True, padding_value=self.tokenizer.pad_token_id)\n",
    "        labels = pad_sequence(labels, batch_first=True, padding_value=IGNORE_INDEX) if not self.predict_with_generate else None\n",
    "        data_dict = {\n",
    "            'input_ids': input_ids,\n",
    "            'attention_mask':input_ids.ne(self.tokenizer.pad_token_id),\n",
    "        }\n",
    "        if labels is not None:\n",
    "            data_dict['labels'] = labels\n",
    "        return data_dict\n",
    "\n",
    "def extract_unnatural_instructions_data(examples, extract_reformulations=False):\n",
    "    out = {\n",
    "        'input': [],\n",
    "        'output': [],\n",
    "    }\n",
    "    for example_instances in examples['instances']:\n",
    "        for instance in example_instances:\n",
    "            out['input'].append(instance['instruction_with_input'])\n",
    "            out['output'].append(instance['output'])\n",
    "    if extract_reformulations:\n",
    "        for example_reformulations in examples['reformulations']:\n",
    "            if example_reformulations is not None:\n",
    "                for instance in example_reformulations:\n",
    "                    out['input'].append(instance['instruction_with_input'])\n",
    "                    out['output'].append(instance['output'])\n",
    "    return out\n",
    "\n",
    "ALPACA_PROMPT_DICT = {\n",
    "    \"prompt_input\": (\n",
    "        \"Below is an instruction that describes a task, paired with an input that provides further context. \"\n",
    "        \"Write a response that appropriately completes the request.\\n\\n\"\n",
    "        \"### Instruction:\\n{instruction}\\n\\n### Input:\\n{input}\\n\\n### Response: \"\n",
    "    ),\n",
    "    \"prompt_no_input\": (\n",
    "        \"Below is an instruction that describes a task. \"\n",
    "        \"Write a response that appropriately completes the request.\\n\\n\"\n",
    "        \"### Instruction:\\n{instruction}\\n\\n### Response: \"\n",
    "    ),\n",
    "}\n",
    "\n",
    "def extract_alpaca_dataset(example):\n",
    "    if example.get(\"input\", \"\") != \"\":\n",
    "        prompt_format = ALPACA_PROMPT_DICT[\"prompt_input\"]\n",
    "    else:\n",
    "        prompt_format = ALPACA_PROMPT_DICT[\"prompt_no_input\"]\n",
    "    return {'input': prompt_format.format(**example)}\n",
    "\n",
    "def local_dataset(dataset_name):\n",
    "    if dataset_name.endswith('.json') or dataset_name.endswith('.jsonl'):\n",
    "        full_dataset = Dataset.from_json(path_or_paths=dataset_name)\n",
    "    elif dataset_name.endswith('.csv'):\n",
    "        full_dataset = Dataset.from_pandas(pd.read_csv(dataset_name))\n",
    "    elif dataset_name.endswith('.tsv'):\n",
    "        full_dataset = Dataset.from_pandas(pd.read_csv(dataset_name, delimiter='\\t'))\n",
    "    else:\n",
    "        raise ValueError(f\"Unsupported dataset format: {dataset_name}\")\n",
    "\n",
    "    split_dataset = full_dataset.train_test_split(test_size=0.1)\n",
    "    return split_dataset\n",
    "\n",
    "def make_data_module(tokenizer: transformers.PreTrainedTokenizer, args) -> Dict:\n",
    "    \"\"\"\n",
    "    Make dataset and collator for supervised fine-tuning.\n",
    "    Datasets are expected to have the following columns: { `input`, `output` }\n",
    "\n",
    "    Available datasets to be selected with `dataset` argument:\n",
    "        - alpaca, 52002 examples\n",
    "        - alpaca cleaned, 51942 examples\n",
    "        - chip2 (OIG), 210289 examples\n",
    "        - self-instruct, 82612 examples\n",
    "        - hh-rlhf (Anthropic), 160800 examples\n",
    "        - longform, 23.7k examples\n",
    "        - oasst1 (OpenAssistant) primary message tree only, 9,846 examples\n",
    "\n",
    "    Coming soon:\n",
    "        - unnatural instructions core, 66010 examples\n",
    "        - unnatural instructions full, 240670 examples\n",
    "        - alpaca-gpt4, 52002 examples\n",
    "        - unnatural-instructions-gpt4, 9000 examples\n",
    "        - supernatural-instructions, 69624 examples (same as paper with 100 ex/task more can be used)\n",
    "        - flan (FLAN v2), up to 20M examples available\n",
    "        - vicuna\n",
    "\n",
    "    \"\"\"\n",
    "    def load_data(dataset_name):\n",
    "        if dataset_name == 'alpaca':\n",
    "            return load_dataset(\"tatsu-lab/alpaca\")\n",
    "        elif dataset_name == 'alpaca-clean':\n",
    "            return load_dataset(\"yahma/alpaca-cleaned\")\n",
    "        elif dataset_name == 'chip2':\n",
    "            return load_dataset(\"laion/OIG\", data_files='unified_chip2.jsonl')\n",
    "        elif dataset_name == 'self-instruct':\n",
    "            return load_dataset(\"yizhongw/self_instruct\", name='self_instruct')\n",
    "        elif dataset_name == 'hh-rlhf':\n",
    "            return load_dataset(\"Anthropic/hh-rlhf\")\n",
    "        elif dataset_name == 'longform':\n",
    "            return load_dataset(\"akoksal/LongForm\")\n",
    "        elif dataset_name == 'oasst1':\n",
    "            return load_dataset(\"timdettmers/openassistant-guanaco\")\n",
    "        elif dataset_name == 'vicuna':\n",
    "            raise NotImplementedError(\"Vicuna data was not released.\")\n",
    "        else:\n",
    "            if os.path.exists(dataset_name):\n",
    "                try:\n",
    "                    args.dataset_format = args.dataset_format if args.dataset_format else \"input-output\"\n",
    "                    full_dataset = local_dataset(dataset_name)\n",
    "                    return full_dataset\n",
    "                except:\n",
    "                    raise ValueError(f\"Error loading dataset from {dataset_name}\")\n",
    "            else:\n",
    "                raise NotImplementedError(f\"Dataset {dataset_name} not implemented yet.\")\n",
    "\n",
    "    def format_dataset(dataset, dataset_format):\n",
    "        if (\n",
    "            dataset_format == 'alpaca' or dataset_format == 'alpaca-clean' or\n",
    "            (dataset_format is None and args.dataset in ['alpaca', 'alpaca-clean'])\n",
    "        ):\n",
    "            dataset = dataset.map(extract_alpaca_dataset, remove_columns=['instruction'])\n",
    "        elif dataset_format == 'chip2' or (dataset_format is None and args.dataset == 'chip2'):\n",
    "            dataset = dataset.map(lambda x: {\n",
    "                'input': x['text'].split('\\n<bot>: ')[0].replace('<human>: ', ''),\n",
    "                'output': x['text'].split('\\n<bot>: ')[1],\n",
    "            })\n",
    "        elif dataset_format == 'self-instruct' or (dataset_format is None and args.dataset == 'self-instruct'):\n",
    "            for old, new in [[\"prompt\", \"input\"], [\"completion\", \"output\"]]:\n",
    "                dataset = dataset.rename_column(old, new)\n",
    "        elif dataset_format == 'hh-rlhf' or (dataset_format is None and args.dataset == 'hh-rlhf'):\n",
    "            dataset = dataset.map(lambda x: {\n",
    "                'input': '',\n",
    "                'output': x['chosen']\n",
    "            })\n",
    "        elif dataset_format == 'oasst1' or (dataset_format is None and args.dataset == 'oasst1'):\n",
    "            dataset = dataset.map(lambda x: {\n",
    "                'input': '',\n",
    "                'output': x['text'],\n",
    "            })\n",
    "        elif dataset_format == 'input-output':\n",
    "            # leave as is\n",
    "            pass\n",
    "        # Remove unused columns.\n",
    "        dataset = dataset.remove_columns(\n",
    "            [col for col in dataset.column_names['train'] if col not in ['input', 'output']]\n",
    "        )\n",
    "        return dataset\n",
    "\n",
    "     # Load dataset.\n",
    "    dataset = load_data(args.dataset)\n",
    "    dataset = format_dataset(dataset, args.dataset_format)\n",
    "\n",
    "    # Split train/eval, reduce size\n",
    "    if args.do_eval or args.do_predict:\n",
    "        if 'eval' in dataset:\n",
    "            eval_dataset = dataset['eval']\n",
    "        else:\n",
    "            print('Splitting train dataset in train and validation according to `eval_dataset_size`')\n",
    "            dataset = dataset[\"train\"].train_test_split(\n",
    "                test_size=args.eval_dataset_size, shuffle=True, seed=42\n",
    "            )\n",
    "            eval_dataset = dataset['test']\n",
    "        if args.max_eval_samples is not None and len(eval_dataset) > args.max_eval_samples:\n",
    "            eval_dataset = eval_dataset.select(range(args.max_eval_samples))\n",
    "        if args.group_by_length:\n",
    "            eval_dataset = eval_dataset.map(lambda x: {'length': len(x['input']) + len(x['output'])})\n",
    "    if args.do_train:\n",
    "        train_dataset = dataset['train']\n",
    "        if args.max_train_samples is not None and len(train_dataset) > args.max_train_samples:\n",
    "            train_dataset = train_dataset.select(range(args.max_train_samples))\n",
    "        if args.group_by_length:\n",
    "            train_dataset = train_dataset.map(lambda x: {'length': len(x['input']) + len(x['output'])})\n",
    "\n",
    "    data_collator = DataCollatorForCausalLM(\n",
    "        tokenizer=tokenizer,\n",
    "        source_max_len=args.source_max_len,\n",
    "        target_max_len=args.target_max_len,\n",
    "        train_on_source=args.train_on_source,\n",
    "        predict_with_generate=args.predict_with_generate,\n",
    "    )\n",
    "    return dict(\n",
    "        train_dataset=train_dataset if args.do_train else None,\n",
    "        eval_dataset=eval_dataset if args.do_eval else None,\n",
    "        predict_dataset=eval_dataset if args.do_predict else None,\n",
    "        data_collator=data_collator\n",
    "    )\n",
    "\n",
    "def get_last_checkpoint(checkpoint_dir):\n",
    "    if isdir(checkpoint_dir):\n",
    "        is_completed = exists(join(checkpoint_dir, 'completed'))\n",
    "        if is_completed: return None, True # already finished\n",
    "        max_step = 0\n",
    "        for filename in os.listdir(checkpoint_dir):\n",
    "            if isdir(join(checkpoint_dir, filename)) and filename.startswith('checkpoint'):\n",
    "                max_step = max(max_step, int(filename.replace('checkpoint-', '')))\n",
    "        if max_step == 0: return None, is_completed # training started, but no checkpoint\n",
    "        checkpoint_dir = join(checkpoint_dir, f'checkpoint-{max_step}')\n",
    "        print(f\"Found a previous checkpoint at: {checkpoint_dir}\")\n",
    "        return checkpoint_dir, is_completed # checkpoint found!\n",
    "    return None, False # first training\n"
   ]
  },
  {
   "cell_type": "code",
   "execution_count": 6,
   "id": "930d934f-987c-4ac1-9f05-4c20f82b22ab",
   "metadata": {},
   "outputs": [],
   "source": [
    "@dataclass\n",
    "class ModelArguments:\n",
    "    model_name_or_path: Optional[str] = field(\n",
    "        default=\"EleutherAI/pythia-12b\"\n",
    "    )\n",
    "    trust_remote_code: Optional[bool] = field(\n",
    "        default=False,\n",
    "        metadata={\"help\": \"Enable unpickling of arbitrary code in AutoModelForCausalLM#from_pretrained.\"}\n",
    "    )\n",
    "    use_auth_token: Optional[bool] = field(\n",
    "        default=False,\n",
    "        metadata={\"help\": \"Enables using Huggingface auth token from Git Credentials.\"}\n",
    "    )\n",
    "\n",
    "@dataclass\n",
    "class DataArguments:\n",
    "    eval_dataset_size: int = field(\n",
    "        default=1024, metadata={\"help\": \"Size of validation dataset.\"}\n",
    "    )\n",
    "    max_train_samples: Optional[int] = field(\n",
    "        default=None,\n",
    "        metadata={\n",
    "            \"help\": \"For debugging purposes or quicker training, truncate the number of training examples to this \"\n",
    "            \"value if set.\"\n",
    "        },\n",
    "    )\n",
    "    max_eval_samples: Optional[int] = field(\n",
    "        default=None,\n",
    "        metadata={\n",
    "            \"help\": \"For debugging purposes or quicker training, truncate the number of evaluation examples to this \"\n",
    "            \"value if set.\"\n",
    "        },\n",
    "    )\n",
    "    source_max_len: int = field(\n",
    "        default=1024,\n",
    "        metadata={\"help\": \"Maximum source sequence length. Sequences will be right padded (and possibly truncated).\"},\n",
    "    )\n",
    "    target_max_len: int = field(\n",
    "        default=256,\n",
    "        metadata={\"help\": \"Maximum target sequence length. Sequences will be right padded (and possibly truncated).\"},\n",
    "    )\n",
    "    dataset: str = field(\n",
    "        default='alpaca',\n",
    "        metadata={\"help\": \"Which dataset to finetune on. See datamodule for options.\"}\n",
    "    )\n",
    "    dataset_format: Optional[str] = field(\n",
    "        default=None,\n",
    "        metadata={\"help\": \"Which dataset format is used. [alpaca|chip2|self-instruct|hh-rlhf]\"}\n",
    "    )\n",
    "\n",
    "@dataclass\n",
    "class TrainingArguments(transformers.Seq2SeqTrainingArguments):\n",
    "    cache_dir: Optional[str] = field(\n",
    "        default=None\n",
    "    )\n",
    "    train_on_source: Optional[bool] = field(\n",
    "        default=False,\n",
    "        metadata={\"help\": \"Whether to train on the input in addition to the target text.\"}\n",
    "    )\n",
    "    mmlu_split: Optional[str] = field(\n",
    "        default='eval',\n",
    "        metadata={\"help\": \"The MMLU split to run on\"}\n",
    "    )\n",
    "    mmlu_dataset: Optional[str] = field(\n",
    "        default='mmlu-fs',\n",
    "        metadata={\"help\": \"MMLU dataset to use: options are `mmlu-zs` for zero-shot or `mmlu-fs` for few shot.\"}\n",
    "    )\n",
    "    do_mmlu_eval: Optional[bool] = field(\n",
    "        default=False,\n",
    "        metadata={\"help\": \"Whether to run the MMLU evaluation.\"}\n",
    "    )\n",
    "    max_mmlu_samples: Optional[int] = field(\n",
    "        default=None,\n",
    "        metadata={\"help\": \"If set, only evaluates on `max_mmlu_samples` of the MMMLU dataset.\"}\n",
    "    )\n",
    "    mmlu_source_max_len: int = field(\n",
    "        default=2048,\n",
    "        metadata={\"help\": \"Maximum source sequence length for mmlu.\"}\n",
    "    )\n",
    "    full_finetune: bool = field(\n",
    "        default=False,\n",
    "        metadata={\"help\": \"Finetune the entire model without adapters.\"}\n",
    "    )\n",
    "    adam8bit: bool = field(\n",
    "        default=False,\n",
    "        metadata={\"help\": \"Use 8-bit adam.\"}\n",
    "    )\n",
    "    double_quant: bool = field(\n",
    "        default=True,\n",
    "        metadata={\"help\": \"Compress the quantization statistics through double quantization.\"}\n",
    "    )\n",
    "    quant_type: str = field(\n",
    "        default=\"nf4\",\n",
    "        metadata={\"help\": \"Quantization data type to use. Should be one of `fp4` or `nf4`.\"}\n",
    "    )\n",
    "    bits: int = field(\n",
    "        default=4,\n",
    "        metadata={\"help\": \"How many bits to use.\"}\n",
    "    )\n",
    "    lora_r: int = field(\n",
    "        default=64,\n",
    "        metadata={\"help\": \"Lora R dimension.\"}\n",
    "    )\n",
    "    lora_alpha: float = field(\n",
    "        default=16,\n",
    "        metadata={\"help\": \" Lora alpha.\"}\n",
    "    )\n",
    "    lora_dropout: float = field(\n",
    "        default=0.0,\n",
    "        metadata={\"help\":\"Lora dropout.\"}\n",
    "    )\n",
    "    max_memory_MB: int = field(\n",
    "        default=80000,\n",
    "        metadata={\"help\": \"Free memory per gpu.\"}\n",
    "    )\n",
    "    report_to: str = field(\n",
    "        default='none',\n",
    "        metadata={\"help\": \"To use wandb or something else for reporting.\"}\n",
    "    )\n",
    "    output_dir: str = field(default='./output', metadata={\"help\": 'The output dir for logs and checkpoints'})\n",
    "    optim: str = field(default='paged_adamw_32bit', metadata={\"help\": 'The optimizer to be used'})\n",
    "    per_device_train_batch_size: int = field(default=1, metadata={\"help\": 'The training batch size per GPU. Increase for better speed.'})\n",
    "    gradient_accumulation_steps: int = field(default=16, metadata={\"help\": 'How many gradients to accumulate before to perform an optimizer step'})\n",
    "    max_steps: int = field(default=10000, metadata={\"help\": 'How many optimizer update steps to take'})\n",
    "    weight_decay: float = field(default=0.0, metadata={\"help\": 'The L2 weight decay rate of AdamW'}) # use lora dropout instead for regularization if needed\n",
    "    learning_rate: float = field(default=0.0002, metadata={\"help\": 'The learnign rate'})\n",
    "    remove_unused_columns: bool = field(default=False, metadata={\"help\": 'Removed unused columns. Needed to make this codebase work.'})\n",
    "    max_grad_norm: float = field(default=0.3, metadata={\"help\": 'Gradient clipping max norm. This is tuned and works well for all models tested.'})\n",
    "    gradient_checkpointing: bool = field(default=True, metadata={\"help\": 'Use gradient checkpointing. You want to use this.'})\n",
    "    do_train: bool = field(default=True, metadata={\"help\": 'To train or not to train, that is the question?'})\n",
    "    lr_scheduler_type: str = field(default='constant', metadata={\"help\": 'Learning rate schedule. Constant a bit better than cosine, and has advantage for analysis'})\n",
    "    warmup_ratio: float = field(default=0.03, metadata={\"help\": 'Fraction of steps to do a warmup for'})\n",
    "    logging_steps: int = field(default=10, metadata={\"help\": 'The frequency of update steps after which to log the loss'})\n",
    "    group_by_length: bool = field(default=True, metadata={\"help\": 'Group sequences into batches with same length. Saves memory and speeds up training considerably.'})\n",
    "    save_strategy: str = field(default='steps', metadata={\"help\": 'When to save checkpoints'})\n",
    "    save_steps: int = field(default=250, metadata={\"help\": 'How often to save a model'})\n",
    "    save_total_limit: int = field(default=40, metadata={\"help\": 'How many checkpoints to save before the oldest is overwritten'})\n",
    "\n",
    "@dataclass\n",
    "class GenerationArguments:\n",
    "    # For more hyperparameters check:\n",
    "    # https://huggingface.co/docs/transformers/main_classes/text_generation#transformers.GenerationConfig\n",
    "    # Length arguments\n",
    "    max_new_tokens: Optional[int] = field(\n",
    "        default=256,\n",
    "        metadata={\"help\": \"Maximum number of new tokens to be generated in evaluation or prediction loops\"\n",
    "                          \"if predict_with_generate is set.\"}\n",
    "    )\n",
    "    min_new_tokens : Optional[int] = field(\n",
    "        default=None,\n",
    "        metadata={\"help\": \"Minimum number of new tokens to generate.\"}\n",
    "    )\n",
    "\n",
    "    # Generation strategy\n",
    "    do_sample: Optional[bool] = field(default=False)\n",
    "    num_beams: Optional[int] = field(default=1)\n",
    "    num_beam_groups: Optional[int] = field(default=1)\n",
    "    penalty_alpha: Optional[float] = field(default=None)\n",
    "    use_cache: Optional[bool] = field(default=True)\n",
    "\n",
    "    # Hyperparameters for logit manipulation\n",
    "    temperature: Optional[float] = field(default=1.0)\n",
    "    top_k: Optional[int] = field(default=50)\n",
    "    top_p: Optional[float] = field(default=1.0)\n",
    "    typical_p: Optional[float] = field(default=1.0)\n",
    "    diversity_penalty: Optional[float] = field(default=0.0)\n",
    "    repetition_penalty: Optional[float] = field(default=1.0)\n",
    "    length_penalty: Optional[float] = field(default=1.0)\n",
    "    no_repeat_ngram_size: Optional[int] = field(default=0)"
   ]
  },
  {
   "cell_type": "code",
   "execution_count": 6,
   "id": "c8d383bb-33e6-42f1-8617-a2e76b0276af",
   "metadata": {},
   "outputs": [],
   "source": [
    "# define CLI args here\n",
    "sys.argv = []\n",
    "\n",
    "args_list = \"\"\"qlora.py \\\n",
    "    --model_name_or_path meta-llama/Llama-2-7b-hf \\\n",
    "    --use_auth \\\n",
    "    --output_dir ./checkpoints \\\n",
    "    --logging_steps 10 \\\n",
    "    --save_strategy steps \\\n",
    "    --data_seed 42 \\\n",
    "    --save_steps 500 \\\n",
    "    --save_total_limit 40 \\\n",
    "    --evaluation_strategy steps \\\n",
    "    --eval_dataset_size 1024 \\\n",
    "    --max_eval_samples 1000 \\\n",
    "    --per_device_eval_batch_size 1 \\\n",
    "    --max_new_tokens 32 \\\n",
    "    --dataloader_num_workers 1 \\\n",
    "    --group_by_length \\\n",
    "    --logging_strategy steps \\\n",
    "    --remove_unused_columns False \\\n",
    "    --do_train \\\n",
    "    --do_eval \\\n",
    "    --do_mmlu_eval \\\n",
    "    --lora_r 64 \\\n",
    "    --lora_alpha 16 \\\n",
    "    --lora_modules all \\\n",
    "    --double_quant \\\n",
    "    --quant_type nf4 \\\n",
    "    --bf16 \\\n",
    "    --bits 4 \\\n",
    "    --warmup_ratio 0.03 \\\n",
    "    --lr_scheduler_type constant \\\n",
    "    --gradient_checkpointing \\\n",
    "    --dataset oasst1 \\\n",
    "    --source_max_len 16 \\\n",
    "    --target_max_len 512 \\\n",
    "    --per_device_train_batch_size 8 \\\n",
    "    --gradient_accumulation_steps 2 \\\n",
    "    --max_steps 1875 \\\n",
    "    --eval_steps 375 \\\n",
    "    --learning_rate 0.0002 \\\n",
    "    --adam_beta2 0.999 \\\n",
    "    --max_grad_norm 0.3 \\\n",
    "    --lora_dropout 0.1 \\\n",
    "    --weight_decay 0.0 \\\n",
    "    --seed 0\"\"\"\n",
    "\n",
    "args_list = args_list.split()\n",
    "\n",
    "sys.argv.extend(args_list)"
   ]
  },
  {
   "cell_type": "code",
   "execution_count": 7,
   "id": "d64f8d07-d248-4343-a0d8-08b5c7d58313",
   "metadata": {},
   "outputs": [
    {
     "data": {
      "text/plain": [
       "196"
      ]
     },
     "execution_count": 7,
     "metadata": {},
     "output_type": "execute_result"
    }
   ],
   "source": [
    "157+39"
   ]
  },
  {
   "cell_type": "code",
   "execution_count": 8,
   "id": "482f280a-9dbc-464a-b6d9-b27b6dc8b9d0",
   "metadata": {},
   "outputs": [],
   "source": [
    "hfparser = transformers.HfArgumentParser((\n",
    "    ModelArguments, DataArguments, TrainingArguments, GenerationArguments\n",
    "))\n",
    "model_args, data_args, training_args, generation_args, extra_args = \\\n",
    "    hfparser.parse_args_into_dataclasses(return_remaining_strings=True)"
   ]
  },
  {
   "cell_type": "code",
   "execution_count": 9,
   "id": "2e697602-5065-40f8-abca-89d37e6541f5",
   "metadata": {},
   "outputs": [],
   "source": [
    "# training_args.do_eval = False\n",
    "# training_args.do_mmlu_eval = False\n",
    "# training_args.max_steps = 1"
   ]
  },
  {
   "cell_type": "code",
   "execution_count": 10,
   "id": "6e133c22-8fd4-4c03-a6d4-3c82d27aa175",
   "metadata": {},
   "outputs": [
    {
     "name": "stdout",
     "output_type": "stream",
     "text": [
      "Namespace(model_name_or_path='meta-llama/Llama-2-7b-hf', trust_remote_code=False, use_auth_token=True, eval_dataset_size=1024, max_train_samples=None, max_eval_samples=1000, source_max_len=16, target_max_len=512, dataset='oasst1', dataset_format=None, output_dir='./checkpoints', overwrite_output_dir=False, do_train=True, do_eval=True, do_predict=False, evaluation_strategy=<IntervalStrategy.STEPS: 'steps'>, prediction_loss_only=False, per_device_train_batch_size=8, per_device_eval_batch_size=1, per_gpu_train_batch_size=None, per_gpu_eval_batch_size=None, gradient_accumulation_steps=2, eval_accumulation_steps=None, eval_delay=0, learning_rate=0.0002, weight_decay=0.0, adam_beta1=0.9, adam_beta2=0.999, adam_epsilon=1e-08, max_grad_norm=0.3, num_train_epochs=3.0, max_steps=1875, lr_scheduler_type=<SchedulerType.CONSTANT: 'constant'>, warmup_ratio=0.03, warmup_steps=0, log_level='passive', log_level_replica='warning', log_on_each_node=True, logging_dir='./checkpoints/runs/Jul29_18-02-26_b39e9b5a2e44', logging_strategy=<IntervalStrategy.STEPS: 'steps'>, logging_first_step=False, logging_steps=10, logging_nan_inf_filter=True, save_strategy=<IntervalStrategy.STEPS: 'steps'>, save_steps=500, save_total_limit=40, save_safetensors=False, save_on_each_node=False, no_cuda=False, use_mps_device=False, seed=0, data_seed=42, jit_mode_eval=False, use_ipex=False, bf16=True, fp16=False, fp16_opt_level='O1', half_precision_backend='auto', bf16_full_eval=False, fp16_full_eval=False, tf32=None, local_rank=0, ddp_backend=None, tpu_num_cores=None, tpu_metrics_debug=False, debug=[], dataloader_drop_last=False, eval_steps=375, dataloader_num_workers=1, past_index=-1, run_name='./checkpoints', disable_tqdm=False, remove_unused_columns=False, label_names=None, load_best_model_at_end=False, metric_for_best_model=None, greater_is_better=None, ignore_data_skip=False, sharded_ddp=[], fsdp=[], fsdp_min_num_params=0, fsdp_config={'fsdp_min_num_params': 0, 'xla': False, 'xla_fsdp_grad_ckpt': False}, fsdp_transformer_layer_cls_to_wrap=None, deepspeed=None, label_smoothing_factor=0.0, optim=<OptimizerNames.PAGED_ADAMW: 'paged_adamw_32bit'>, optim_args=None, adafactor=False, group_by_length=True, length_column_name='length', report_to=[], ddp_find_unused_parameters=None, ddp_bucket_cap_mb=None, ddp_broadcast_buffers=None, dataloader_pin_memory=True, skip_memory_metrics=True, use_legacy_prediction_loop=False, push_to_hub=False, resume_from_checkpoint=None, hub_model_id=None, hub_strategy=<HubStrategy.EVERY_SAVE: 'every_save'>, hub_token=None, hub_private_repo=False, gradient_checkpointing=True, include_inputs_for_metrics=False, fp16_backend='auto', push_to_hub_model_id=None, push_to_hub_organization=None, push_to_hub_token=None, mp_parameters='', auto_find_batch_size=False, full_determinism=False, torchdynamo=None, ray_scope='last', ddp_timeout=1800, torch_compile=False, torch_compile_backend=None, torch_compile_mode=None, xpu_backend=None, sortish_sampler=False, predict_with_generate=False, generation_max_length=None, generation_num_beams=None, generation_config=GenerationConfig {\n",
      "  \"max_new_tokens\": 32,\n",
      "  \"transformers_version\": \"4.31.0\"\n",
      "}\n",
      ", cache_dir=None, train_on_source=False, mmlu_split='eval', mmlu_dataset='mmlu-fs', do_mmlu_eval=True, max_mmlu_samples=None, mmlu_source_max_len=2048, full_finetune=False, adam8bit=False, double_quant=True, quant_type='nf4', bits=4, lora_r=64, lora_alpha=16.0, lora_dropout=0.1, max_memory_MB=80000, distributed_state=Distributed environment: NO\n",
      "Num processes: 1\n",
      "Process index: 0\n",
      "Local process index: 0\n",
      "Device: cuda\n",
      ", _n_gpu=1, __cached__setup_devices=device(type='cuda', index=0), deepspeed_plugin=None)\n"
     ]
    }
   ],
   "source": [
    "training_args.generation_config = transformers.GenerationConfig(**vars(generation_args))\n",
    "\n",
    "args = argparse.Namespace(\n",
    "    **vars(model_args), **vars(data_args), **vars(training_args)\n",
    ")\n",
    "print(args)"
   ]
  },
  {
   "cell_type": "code",
   "execution_count": 10,
   "id": "a74156f5-9237-47fb-b14a-c3940c819e04",
   "metadata": {},
   "outputs": [
    {
     "name": "stdout",
     "output_type": "stream",
     "text": [
      "Detected that training was already completed!\n",
      "loading base model meta-llama/Llama-2-7b-hf...\n"
     ]
    },
    {
     "name": "stderr",
     "output_type": "stream",
     "text": [
      "/usr/local/lib/python3.10/dist-packages/transformers/modeling_utils.py:2193: FutureWarning: The `use_auth_token` argument is deprecated and will be removed in v5 of Transformers.\n",
      "  warnings.warn(\n"
     ]
    },
    {
     "data": {
      "application/vnd.jupyter.widget-view+json": {
       "model_id": "c5f5495c4d67440b870046615bcb4f6c",
       "version_major": 2,
       "version_minor": 0
      },
      "text/plain": [
       "Loading checkpoint shards:   0%|          | 0/2 [00:00<?, ?it/s]"
      ]
     },
     "metadata": {},
     "output_type": "display_data"
    },
    {
     "name": "stderr",
     "output_type": "stream",
     "text": [
      "/usr/local/lib/python3.10/dist-packages/transformers/tokenization_utils_base.py:1714: FutureWarning: The `use_auth_token` argument is deprecated and will be removed in v5 of Transformers.\n",
      "  warnings.warn(\n"
     ]
    },
    {
     "name": "stdout",
     "output_type": "stream",
     "text": [
      "Adding special tokens.\n",
      "adding LoRA modules...\n",
      "loaded model\n"
     ]
    }
   ],
   "source": [
    "checkpoint_dir, completed_training = get_last_checkpoint(args.output_dir)\n",
    "if completed_training:\n",
    "    print('Detected that training was already completed!')\n",
    "\n",
    "model, tokenizer = get_accelerate_model(args, checkpoint_dir)\n",
    "\n",
    "model.config.use_cache = False\n",
    "print('loaded model')\n",
    "set_seed(args.seed)"
   ]
  },
  {
   "cell_type": "code",
   "execution_count": 16,
   "id": "fe041adb-0313-48a5-866a-dbceb26af621",
   "metadata": {},
   "outputs": [
    {
     "name": "stderr",
     "output_type": "stream",
     "text": [
      "Repo card metadata block was not found. Setting CardData to empty.\n"
     ]
    },
    {
     "name": "stdout",
     "output_type": "stream",
     "text": [
      "Splitting train dataset in train and validation according to `eval_dataset_size`\n"
     ]
    }
   ],
   "source": [
    "data_module = make_data_module(tokenizer=tokenizer, args=args)"
   ]
  },
  {
   "cell_type": "code",
   "execution_count": 17,
   "id": "ef980846-5c4b-4e44-883d-fe2fbb7febd5",
   "metadata": {},
   "outputs": [],
   "source": [
    "trainer = Seq2SeqTrainer(\n",
    "    model=model,\n",
    "    tokenizer=tokenizer,\n",
    "    args=training_args,\n",
    "    **{k:v for k,v in data_module.items() if k != 'predict_dataset'},\n",
    ")"
   ]
  },
  {
   "cell_type": "code",
   "execution_count": 18,
   "id": "a3c5b11b-d087-436f-8ba7-2ed2c0784b19",
   "metadata": {},
   "outputs": [
    {
     "data": {
      "application/vnd.jupyter.widget-view+json": {
       "model_id": "079926ad7aa84ffcb9dc7f1a7c51c2dc",
       "version_major": 2,
       "version_minor": 0
      },
      "text/plain": [
       "Downloading data files:   0%|          | 0/2 [00:00<?, ?it/s]"
      ]
     },
     "metadata": {},
     "output_type": "display_data"
    },
    {
     "data": {
      "application/vnd.jupyter.widget-view+json": {
       "model_id": "9f601716f805460bb3198d22a666a6c4",
       "version_major": 2,
       "version_minor": 0
      },
      "text/plain": [
       "Extracting data files:   0%|          | 0/2 [00:00<?, ?it/s]"
      ]
     },
     "metadata": {},
     "output_type": "display_data"
    },
    {
     "data": {
      "application/vnd.jupyter.widget-view+json": {
       "model_id": "cd99e931d24846828c4f57c3e549970f",
       "version_major": 2,
       "version_minor": 0
      },
      "text/plain": [
       "Generating eval split: 0 examples [00:00, ? examples/s]"
      ]
     },
     "metadata": {},
     "output_type": "display_data"
    },
    {
     "data": {
      "application/vnd.jupyter.widget-view+json": {
       "model_id": "f1748d12bc254b9cb8d7366cf49461bd",
       "version_major": 2,
       "version_minor": 0
      },
      "text/plain": [
       "Generating test split: 0 examples [00:00, ? examples/s]"
      ]
     },
     "metadata": {},
     "output_type": "display_data"
    },
    {
     "data": {
      "application/vnd.jupyter.widget-view+json": {
       "model_id": "ecf52d3a74c44d189939274faa9ba48c",
       "version_major": 2,
       "version_minor": 0
      },
      "text/plain": [
       "Downloading builder script:   0%|          | 0.00/4.20k [00:00<?, ?B/s]"
      ]
     },
     "metadata": {},
     "output_type": "display_data"
    }
   ],
   "source": [
    "# Callbacks\n",
    "if not args.full_finetune:\n",
    "    trainer.add_callback(SavePeftModelCallback)\n",
    "if args.do_mmlu_eval:\n",
    "    if args.mmlu_dataset == 'mmlu-zs':\n",
    "        mmlu_dataset = load_dataset(\"json\", data_files={\n",
    "            'eval': 'data/mmlu/zero_shot_mmlu_val.json',\n",
    "            'test': 'data/mmlu/zero_shot_mmlu_test.json',\n",
    "        })\n",
    "        mmlu_dataset = mmlu_dataset.remove_columns('subject')\n",
    "    # MMLU Five-shot (Eval/Test only)\n",
    "    elif args.mmlu_dataset == 'mmlu' or args.mmlu_dataset == 'mmlu-fs':\n",
    "        mmlu_dataset = load_dataset(\"json\", data_files={\n",
    "            'eval': 'data/mmlu/five_shot_mmlu_val.json',\n",
    "            'test': 'data/mmlu/five_shot_mmlu_test.json',\n",
    "        })\n",
    "        # mmlu_dataset = mmlu_dataset.remove_columns('subject')\n",
    "    mmlu_dataset = mmlu_dataset[args.mmlu_split]\n",
    "    if args.max_mmlu_samples is not None:\n",
    "        mmlu_dataset = mmlu_dataset.select(range(args.max_mmlu_samples))\n",
    "    abcd_idx = [\n",
    "        tokenizer(\"A\", add_special_tokens=False).input_ids[0],\n",
    "        tokenizer(\"B\", add_special_tokens=False).input_ids[0],\n",
    "        tokenizer(\"C\", add_special_tokens=False).input_ids[0],\n",
    "        tokenizer(\"D\", add_special_tokens=False).input_ids[0],\n",
    "    ]\n",
    "    accuracy = evaluate.load(\"accuracy\")\n",
    "    class MMLUEvalCallback(transformers.TrainerCallback):\n",
    "        def on_evaluate(self, args, state, control, model, **kwargs):\n",
    "            with torch.no_grad():\n",
    "                data_loader = trainer.get_eval_dataloader(mmlu_dataset)\n",
    "                source_max_len = trainer.data_collator.source_max_len\n",
    "                trainer.data_collator.source_max_len = args.mmlu_source_max_len\n",
    "                trainer.model.eval()\n",
    "                preds, refs = [], []\n",
    "                loss_mmlu = 0\n",
    "                for batch in tqdm(data_loader, total=len(data_loader)):\n",
    "                    (loss, logits, labels) = trainer.prediction_step(trainer.model,batch,prediction_loss_only=False,)\n",
    "                    # There are two tokens, the output, and eos token.\n",
    "                    for i, logit in enumerate(logits):\n",
    "                        label_non_zero_id = (batch['labels'][i] != -100).nonzero()[0][0]\n",
    "                        logit_abcd = logit[label_non_zero_id-1][abcd_idx]\n",
    "                        preds.append(torch.argmax(logit_abcd).item())\n",
    "                    labels = labels[labels != IGNORE_INDEX].view(-1, 2)[:,0]\n",
    "                    refs += [abcd_idx.index(label) for label in labels.tolist()]\n",
    "                    loss_mmlu += loss.item()\n",
    "                # Extract results by subject.\n",
    "                results = {'mmlu_loss':loss_mmlu/len(data_loader)}\n",
    "                subject = mmlu_dataset['subject']\n",
    "                subjects = {s:{'refs':[], 'preds':[]} for s in set(subject)}\n",
    "                for s,p,r in zip(subject, preds, refs):\n",
    "                    subjects[s]['preds'].append(p)\n",
    "                    subjects[s]['refs'].append(r)\n",
    "                subject_scores = []\n",
    "                for subject in subjects:\n",
    "                    subject_score = accuracy.compute(\n",
    "                        references=subjects[subject]['refs'],\n",
    "                        predictions=subjects[subject]['preds']\n",
    "                    )['accuracy']\n",
    "                    results[f'mmlu_{args.mmlu_split}_accuracy_{subject}'] = subject_score\n",
    "                    subject_scores.append(subject_score)\n",
    "                results[f'mmlu_{args.mmlu_split}_accuracy'] = np.mean(subject_scores)\n",
    "                trainer.log(results)\n",
    "                trainer.data_collator.source_max_len = source_max_len\n",
    "\n",
    "    trainer.add_callback(MMLUEvalCallback)"
   ]
  },
  {
   "cell_type": "code",
   "execution_count": 19,
   "id": "a82db14f-42b6-4bf4-8dfc-fa559c3d203f",
   "metadata": {},
   "outputs": [
    {
     "name": "stdout",
     "output_type": "stream",
     "text": [
      "trainable params: 79953920.0 || all params: 3660328960 || trainable: 2.1843370056007205\n",
      "torch.bfloat16 422060032 0.1153065849032323\n",
      "torch.uint8 3238002688 0.8846206784649213\n",
      "torch.float32 266240 7.273663184633547e-05\n"
     ]
    }
   ],
   "source": [
    "# Verifying the datatypes and parameter counts before training.\n",
    "print_trainable_parameters(args, model)\n",
    "dtypes = {}\n",
    "for _, p in model.named_parameters():\n",
    "    dtype = p.dtype\n",
    "    if dtype not in dtypes: dtypes[dtype] = 0\n",
    "    dtypes[dtype] += p.numel()\n",
    "total = 0\n",
    "for k, v in dtypes.items(): total+= v\n",
    "for k, v in dtypes.items():\n",
    "    print(k, v, v/total)"
   ]
  },
  {
   "cell_type": "code",
   "execution_count": 15,
   "id": "e71d1c6f-8c4f-4025-bea5-96c8b7c97cc6",
   "metadata": {},
   "outputs": [
    {
     "data": {
      "text/html": [
       "\n",
       "    <div>\n",
       "      \n",
       "      <progress value='1875' max='1875' style='width:300px; height:20px; vertical-align: middle;'></progress>\n",
       "      [1875/1875 3:04:48, Epoch 3/4]\n",
       "    </div>\n",
       "    <table border=\"1\" class=\"dataframe\">\n",
       "  <thead>\n",
       " <tr style=\"text-align: left;\">\n",
       "      <th>Step</th>\n",
       "      <th>Training Loss</th>\n",
       "      <th>Validation Loss</th>\n",
       "    </tr>\n",
       "  </thead>\n",
       "  <tbody>\n",
       "    <tr>\n",
       "      <td>375</td>\n",
       "      <td>1.149100</td>\n",
       "      <td>1.247778</td>\n",
       "    </tr>\n",
       "    <tr>\n",
       "      <td>750</td>\n",
       "      <td>1.261100</td>\n",
       "      <td>1.248671</td>\n",
       "    </tr>\n",
       "    <tr>\n",
       "      <td>1125</td>\n",
       "      <td>0.997500</td>\n",
       "      <td>1.262669</td>\n",
       "    </tr>\n",
       "    <tr>\n",
       "      <td>1500</td>\n",
       "      <td>1.006300</td>\n",
       "      <td>1.302013</td>\n",
       "    </tr>\n",
       "    <tr>\n",
       "      <td>1875</td>\n",
       "      <td>0.828900</td>\n",
       "      <td>1.364714</td>\n",
       "    </tr>\n",
       "  </tbody>\n",
       "</table><p>"
      ],
      "text/plain": [
       "<IPython.core.display.HTML object>"
      ]
     },
     "metadata": {},
     "output_type": "display_data"
    },
    {
     "name": "stderr",
     "output_type": "stream",
     "text": [
      "100%|██████████| 1531/1531 [04:59<00:00,  5.12it/s]\n"
     ]
    },
    {
     "name": "stdout",
     "output_type": "stream",
     "text": [
      "Saving PEFT checkpoint...\n"
     ]
    },
    {
     "name": "stderr",
     "output_type": "stream",
     "text": [
      "100%|██████████| 1531/1531 [04:59<00:00,  5.12it/s]\n"
     ]
    },
    {
     "name": "stdout",
     "output_type": "stream",
     "text": [
      "Saving PEFT checkpoint...\n"
     ]
    },
    {
     "name": "stderr",
     "output_type": "stream",
     "text": [
      "100%|██████████| 1531/1531 [04:58<00:00,  5.13it/s]\n",
      "100%|██████████| 1531/1531 [04:58<00:00,  5.13it/s]\n"
     ]
    },
    {
     "name": "stdout",
     "output_type": "stream",
     "text": [
      "Saving PEFT checkpoint...\n"
     ]
    },
    {
     "name": "stderr",
     "output_type": "stream",
     "text": [
      "100%|██████████| 1531/1531 [04:58<00:00,  5.13it/s]\n"
     ]
    },
    {
     "name": "stdout",
     "output_type": "stream",
     "text": [
      "Saving PEFT checkpoint...\n",
      "***** train metrics *****\n",
      "  epoch                    =         3.4\n",
      "  total_flos               = 254266739GF\n",
      "  train_loss               =      1.0849\n",
      "  train_runtime            =  3:04:55.33\n",
      "  train_samples_per_second =       2.704\n",
      "  train_steps_per_second   =       0.169\n"
     ]
    },
    {
     "data": {
      "text/html": [
       "\n",
       "    <div>\n",
       "      \n",
       "      <progress value='1000' max='1000' style='width:300px; height:20px; vertical-align: middle;'></progress>\n",
       "      [1000/1000 01:48]\n",
       "    </div>\n",
       "    "
      ],
      "text/plain": [
       "<IPython.core.display.HTML object>"
      ]
     },
     "metadata": {},
     "output_type": "display_data"
    },
    {
     "name": "stderr",
     "output_type": "stream",
     "text": [
      "100%|██████████| 1531/1531 [04:58<00:00,  5.12it/s]\n"
     ]
    },
    {
     "name": "stdout",
     "output_type": "stream",
     "text": [
      "***** eval metrics *****\n",
      "  epoch                   =        3.4\n",
      "  eval_loss               =     1.3647\n",
      "  eval_runtime            = 0:01:49.02\n",
      "  eval_samples_per_second =      9.172\n",
      "  eval_steps_per_second   =      9.172\n"
     ]
    }
   ],
   "source": [
    "# all_metrics = {\"run_name\": args.run_name}\n",
    "# # Training\n",
    "# if args.do_train:\n",
    "#     logger.info(\"*** Train ***\")\n",
    "#     # Note: `resume_from_checkpoint` not supported for adapter checkpoints by HF.\n",
    "#     # Currently adapter checkpoint is reloaded as expected but optimizer/scheduler states are not.\n",
    "#     train_result = trainer.train()\n",
    "#     metrics = train_result.metrics\n",
    "#     trainer.log_metrics(\"train\", metrics)\n",
    "#     trainer.save_metrics(\"train\", metrics)\n",
    "#     trainer.save_state()\n",
    "#     all_metrics.update(metrics)\n",
    "# # Evaluation\n",
    "# if args.do_eval:\n",
    "#     logger.info(\"*** Evaluate ***\")\n",
    "#     metrics = trainer.evaluate(metric_key_prefix=\"eval\")\n",
    "#     trainer.log_metrics(\"eval\", metrics)\n",
    "#     trainer.save_metrics(\"eval\", metrics)\n",
    "#     all_metrics.update(metrics)\n",
    "\n",
    "# if args.do_predict:\n",
    "#     # Prediction\n",
    "#     logger.info(\"*** Predict ***\")\n",
    "#     prediction_output = trainer.predict(test_dataset=data_module['predict_dataset'],metric_key_prefix=\"predict\")\n",
    "#     prediction_metrics = prediction_output.metrics\n",
    "#     predictions = prediction_output.predictions\n",
    "#     predictions = np.where(predictions != -100, predictions, tokenizer.pad_token_id)\n",
    "#     predictions = tokenizer.batch_decode(\n",
    "#         predictions, skip_special_tokens=True, clean_up_tokenization_spaces=True\n",
    "#     )\n",
    "#     with open(os.path.join(args.output_dir, 'predictions.jsonl'), 'w') as fout:\n",
    "#         for i, example in enumerate(data_module['predict_dataset']):\n",
    "#             example['prediction_with_input'] = predictions[i].strip()\n",
    "#             example['prediction'] = predictions[i].replace(example['input'], '').strip()\n",
    "#             fout.write(json.dumps(example) + '\\n')\n",
    "#     print(prediction_metrics)\n",
    "#     trainer.log_metrics(\"predict\", prediction_metrics)\n",
    "#     trainer.save_metrics(\"predict\", prediction_metrics)\n",
    "#     all_metrics.update(prediction_metrics)\n",
    "\n",
    "# if (args.do_train or args.do_eval or args.do_predict):\n",
    "#     with open(os.path.join(args.output_dir, \"metrics.json\"), \"w\") as fout:\n",
    "#         fout.write(json.dumps(all_metrics))"
   ]
  },
  {
   "cell_type": "code",
   "execution_count": 17,
   "id": "e6b6ec74-b76c-4703-8a74-97025cfea70b",
   "metadata": {},
   "outputs": [],
   "source": [
    "#trainer.save_model(\"llama2_7b_full\")"
   ]
  },
  {
   "cell_type": "markdown",
   "id": "f32ad432-67b1-4577-a798-d83398ab3b92",
   "metadata": {},
   "source": [
    "### Inference"
   ]
  },
  {
   "cell_type": "code",
   "execution_count": 7,
   "id": "0c6396e6-a8df-4e02-87ba-baab1f750874",
   "metadata": {},
   "outputs": [
    {
     "ename": "NameError",
     "evalue": "name 'args' is not defined",
     "output_type": "error",
     "traceback": [
      "\u001b[0;31m---------------------------------------------------------------------------\u001b[0m",
      "\u001b[0;31mNameError\u001b[0m                                 Traceback (most recent call last)",
      "Cell \u001b[0;32mIn[7], line 1\u001b[0m\n\u001b[0;32m----> 1\u001b[0m \u001b[43margs\u001b[49m\u001b[38;5;241m.\u001b[39mmodel_name_or_path\n",
      "\u001b[0;31mNameError\u001b[0m: name 'args' is not defined"
     ]
    }
   ],
   "source": [
    "args.model_name_or_path"
   ]
  },
  {
   "cell_type": "code",
   "execution_count": 1,
   "id": "10266b4d-fe57-4f85-b50a-ccfb6255aa4e",
   "metadata": {},
   "outputs": [
    {
     "name": "stdout",
     "output_type": "stream",
     "text": [
      "\n",
      "===================================BUG REPORT===================================\n",
      "Welcome to bitsandbytes. For bug reports, please run\n",
      "\n",
      "python -m bitsandbytes\n",
      "\n",
      " and submit this information together with your error trace to: https://github.com/TimDettmers/bitsandbytes/issues\n",
      "================================================================================\n",
      "bin /usr/local/lib/python3.10/dist-packages/bitsandbytes/libbitsandbytes_cuda118.so\n",
      "CUDA_SETUP: WARNING! libcudart.so not found in any environmental path. Searching in backup paths...\n",
      "CUDA SETUP: CUDA runtime path found: /usr/local/cuda/lib64/libcudart.so.11.0\n",
      "CUDA SETUP: Highest compute capability among GPUs detected: 8.9\n",
      "CUDA SETUP: Detected CUDA version 118\n",
      "CUDA SETUP: Loading binary /usr/local/lib/python3.10/dist-packages/bitsandbytes/libbitsandbytes_cuda118.so...\n"
     ]
    },
    {
     "name": "stderr",
     "output_type": "stream",
     "text": [
      "/usr/local/lib/python3.10/dist-packages/bitsandbytes/cuda_setup/main.py:149: UserWarning: WARNING: The following directories listed in your path were found to be non-existent: {PosixPath('/usr/local/nvidia/lib'), PosixPath('/usr/local/nvidia/lib64')}\n",
      "  warn(msg)\n",
      "/usr/local/lib/python3.10/dist-packages/bitsandbytes/cuda_setup/main.py:149: UserWarning: /usr/local/nvidia/lib:/usr/local/nvidia/lib64 did not contain ['libcudart.so', 'libcudart.so.11.0', 'libcudart.so.12.0'] as expected! Searching further paths...\n",
      "  warn(msg)\n",
      "/usr/local/lib/python3.10/dist-packages/bitsandbytes/cuda_setup/main.py:149: UserWarning: WARNING: The following directories listed in your path were found to be non-existent: {PosixPath('ssh-rsa AAAAB3NzaC1yc2EAAAADAQABAAABAQC60Ey9M54lWyeeBaypVbG69/FeQ4pm7iNqI0TWpWcBuL3FCOcb5mPNMzUN2VKamef0blFLQJcD0K9LCADiysQEfKOQHReVvMt+Ij4kQIQyVj6h9vbrPF1yLqyj/Sg5gwZlpudB7xLux+VCX9HvkctAqf/svVxqy9c65B3jFVyeIvKwhgRotXpVKBk9q8zccHpWoWjW+HXU3xQkB1QadRj1TgJk1R7iDRePptgUjTFwBp8KyWEH9A23i7pWbMbhgm7tmSW4mE1r/rrS+P5KlH6bShCGlV90o7RMZngUkR06ruwcr+hvu+Xjr1II8hVWUxEHFOqj4dGqMUOmPtScNE2T patrick@speedlemur.local')}\n",
      "  warn(msg)\n",
      "/usr/local/lib/python3.10/dist-packages/bitsandbytes/cuda_setup/main.py:149: UserWarning: WARNING: The following directories listed in your path were found to be non-existent: {PosixPath('module'), PosixPath('//matplotlib_inline.backend_inline')}\n",
      "  warn(msg)\n",
      "/usr/local/lib/python3.10/dist-packages/bitsandbytes/cuda_setup/main.py:149: UserWarning: Found duplicate ['libcudart.so', 'libcudart.so.11.0', 'libcudart.so.12.0'] files: {PosixPath('/usr/local/cuda/lib64/libcudart.so.11.0'), PosixPath('/usr/local/cuda/lib64/libcudart.so')}.. We'll flip a coin and try one of these, in order to fail forward.\n",
      "Either way, this might cause trouble in the future:\n",
      "If you get `CUDA error: invalid device function` errors, the above might be the cause and the solution is to make sure only one ['libcudart.so', 'libcudart.so.11.0', 'libcudart.so.12.0'] in the paths that we search based on your env.\n",
      "  warn(msg)\n"
     ]
    }
   ],
   "source": [
    "from transformers import BitsAndBytesConfig, AutoModelForCausalLM, AutoTokenizer\n",
    "from peft import PeftModel\n",
    "import torch\n",
    "\n",
    "model_name = \"meta-llama/Llama-2-7b-hf\"#args.model_name_or_path\n",
    "adapters_name = \"/workspace/qlora/checkpoints/checkpoint-1875/adapter_model\"\n",
    "\n",
    "quantization_config = BitsAndBytesConfig(\n",
    "    load_in_4bit=True, \n",
    "    bnb_4bit_compute_dtype=torch.bfloat16,\n",
    "    bnb_4bit_quant_type= 'nf4',\n",
    "    bnb_4bit_use_double_quant= True,\n",
    ")"
   ]
  },
  {
   "cell_type": "code",
   "execution_count": 2,
   "id": "fd78c4e0-1d10-4deb-a4cf-b87451716355",
   "metadata": {},
   "outputs": [],
   "source": [
    "tokenizer = AutoTokenizer.from_pretrained(model_name)"
   ]
  },
  {
   "cell_type": "code",
   "execution_count": 3,
   "id": "2fa2e289-f751-4f4c-85ff-49122e3db42f",
   "metadata": {},
   "outputs": [],
   "source": [
    "prompt = \"What is the main purpose of the US's foreign policy in the middle east?\"\n",
    "inputs = tokenizer(prompt, return_tensors='pt')\n",
    "input_ids = inputs['input_ids'].to(device = \"cuda:0\")"
   ]
  },
  {
   "cell_type": "code",
   "execution_count": 4,
   "id": "561a345e-3818-400f-a203-ef40ca217102",
   "metadata": {},
   "outputs": [],
   "source": [
    "tuned_prompt = \"### Human:\" + prompt + \"### Assistant:\"\n",
    "tuned_inputs = tokenizer(tuned_prompt, return_tensors='pt')\n",
    "tuned_input_ids = tuned_inputs['input_ids'].to(device = \"cuda:0\")"
   ]
  },
  {
   "cell_type": "code",
   "execution_count": 5,
   "id": "56554a41-c8bf-4616-89fc-0bc9cca41bda",
   "metadata": {},
   "outputs": [
    {
     "name": "stdout",
     "output_type": "stream",
     "text": [
      "Starting to load the model meta-llama/Llama-2-7b-hf into memory\n"
     ]
    },
    {
     "data": {
      "application/vnd.jupyter.widget-view+json": {
       "model_id": "59ce1d1f1e65421ca9fb7cdf19767eb7",
       "version_major": 2,
       "version_minor": 0
      },
      "text/plain": [
       "Loading checkpoint shards:   0%|          | 0/2 [00:00<?, ?it/s]"
      ]
     },
     "metadata": {},
     "output_type": "display_data"
    }
   ],
   "source": [
    "print(f\"Starting to load the model {model_name} into memory\")\n",
    "base_model = AutoModelForCausalLM.from_pretrained(\n",
    "    model_name,\n",
    "    load_in_4bit=True,\n",
    "    torch_dtype=torch.bfloat16,\n",
    "    device_map={\"\": 0},\n",
    "    quantization_config = quantization_config,\n",
    ")\n"
   ]
  },
  {
   "cell_type": "code",
   "execution_count": 6,
   "id": "20a54ee4-8fb1-4a75-aeb8-4bd107923d64",
   "metadata": {},
   "outputs": [],
   "source": [
    "# generation_config = transformers.GenerationConfig(**vars(generation_args))\n",
    "\n",
    "# generation_config.max_new_tokens = 256"
   ]
  },
  {
   "cell_type": "code",
   "execution_count": 7,
   "id": "b0c5c2b9-6bf4-492d-ab0b-fb3020cea91c",
   "metadata": {},
   "outputs": [],
   "source": [
    "with torch.inference_mode():\n",
    "    output_ids = base_model.generate(input_ids, max_new_tokens = 512)\n",
    "\n",
    "output_text = tokenizer.decode(output_ids[0])"
   ]
  },
  {
   "cell_type": "code",
   "execution_count": 9,
   "id": "360ae5f6-8323-4118-84d4-f944821ecf95",
   "metadata": {},
   "outputs": [
    {
     "name": "stdout",
     "output_type": "stream",
     "text": [
      "<s> What is the main purpose of the US's foreign policy in the middle east?\n",
      " sierp 2017\n",
      "The main purpose of the US's foreign policy in the middle east is to protect the interests of the US and its allies in the region.\n",
      "The US has a long history of involvement in the Middle East, dating back to the early 20th century. The US has been involved in a number of conflicts in the region, including the Arab-Israeli conflict, the Iran-Iraq War, and the Gulf War.\n",
      "The US has also been involved in a number of peacekeeping operations in the region, including the UN peacekeeping mission in Lebanon and the US-led coalition against ISIS.\n",
      "The US has a number of interests in the Middle East, including:\n",
      "- Protecting the interests of the US and its allies in the region\n",
      "- Promoting democracy and human rights in the region\n",
      "- Preventing the spread of terrorism and extremism in the region\n",
      "- Promoting stability and security in the region\n",
      "The US's foreign policy in the Middle East is designed to protect the interests of the US and its allies in the region, promote democracy and human rights in the region, prevent the spread of terrorism and extremism in the region, and promote stability and security in the region.\n",
      "What is the main purpose of the US's foreign policy in the middle east? czerwiec 2017\n",
      "The main purpose of the US's foreign policy in the middle east is to protect the interests of the US and its allies in the region. The US has a long history of involvement in the Middle East, dating back to the early 20th century. The US has been involved in a number of conflicts in the region, including the Arab-Israeli conflict, the Iran-Iraq War, and the Gulf War. The US has also been involved in a number of peacekeeping operations in the region, including the UN peacekeeping mission in Lebanon and the US-led coalition against ISIS. The US has a number of interests in the Middle East, including: - Protecting the interests of the US and its allies in the region - Promoting democracy and human rights in the region - Preventing the spread of terrorism and extremism in the region - Promoting stability and security in the region The US's foreign policy in the Middle East is designed to protect the\n"
     ]
    }
   ],
   "source": [
    "print(output_text)"
   ]
  },
  {
   "cell_type": "markdown",
   "id": "200d9f9d-a0a9-453f-a7ad-0c16c4aeb3f9",
   "metadata": {},
   "source": [
    "**The tuned model always overwites the base model, even if you rename it :/**"
   ]
  },
  {
   "cell_type": "code",
   "execution_count": 10,
   "id": "3344092f-33c5-4930-b912-698199969868",
   "metadata": {},
   "outputs": [],
   "source": [
    "model = PeftModel.from_pretrained(base_model, adapters_name)\n"
   ]
  },
  {
   "cell_type": "code",
   "execution_count": 11,
   "id": "9a6675a5-e931-41b7-bdad-cc2cee9a27ed",
   "metadata": {},
   "outputs": [],
   "source": [
    "with torch.inference_mode():\n",
    "    tuned_output_ids = model.generate(input_ids = tuned_input_ids, max_new_tokens = 512)\n",
    "\n",
    "tuned_output_text = tokenizer.decode(tuned_output_ids[0])"
   ]
  },
  {
   "cell_type": "code",
   "execution_count": 12,
   "id": "371210c3-6230-4c9b-882c-96f1ddc6cded",
   "metadata": {},
   "outputs": [
    {
     "name": "stdout",
     "output_type": "stream",
     "text": [
      "<s> ### Human:What is the main purpose of the US's foreign policy in the middle east?### Assistant: The main purpose of the United States' foreign policy in the Middle East has been to promote stability, security, and economic prosperity in the region. The United States has sought to counter the influence of regional and international actors that it perceives as threats to its interests, such as Iran and Russia. The United States has also sought to promote democratic values and human rights in the region, and has worked to support political and economic reforms that would lead to a more stable and prosperous Middle East. Additionally, the United States has sought to maintain its position as a global leader and to ensure that the region remains a strategic partner in the global economy and political system.### Human: What are the main goals of the foreign policy of Iran in the Middle East?### Assistant: The foreign policy of Iran in the Middle East is primarily focused on promoting Iranian interests and influence in the region. Iran seeks to counter the influence of regional and international actors that it perceives as threats to its interests, such as the United States and Israel.\n",
      "\n",
      "Iran's main goals in the Middle East include:\n",
      "\n",
      "1. Promoting Iranian influence in the region: Iran seeks to increase its political and economic influence in the Middle East, and to establish itself as a leading power in the region.\n",
      "\n",
      "2. Countering US influence: Iran views the United States as a primary threat to its interests in the region, and seeks to counter US influence and presence.\n",
      "\n",
      "3. Supporting regional allies: Iran supports a number of regional allies, including Syria, Lebanon, and Iraq, and seeks to promote their interests in the region.\n",
      "\n",
      "4. Promoting regional stability: Iran seeks to promote stability in the region by addressing regional conflicts and promoting political and economic reforms.\n",
      "\n",
      "5. Advocating for regional rights: Iran advocates for regional rights and supports political and economic reforms that would lead to a more just and equitable region.\n",
      "\n",
      "6. Expanding Iranian trade and investment: Iran seeks to expand its trade and investment in the region, and to increase its economic influence.\n",
      "\n",
      "7. Developing regional infrastructure: Iran seeks to develop regional infrastructure, such as transportation and energy networks, to support its economic and political interests in the region.\n",
      "\n",
      "8. Promoting regional cooperation: Iran seeks to promote regional cooperation among countries in the Middle\n"
     ]
    }
   ],
   "source": [
    "print(tuned_output_text)"
   ]
  },
  {
   "cell_type": "markdown",
   "id": "97f8c31e-5f0f-481a-bc00-6ed3516be091",
   "metadata": {},
   "source": [
    "### Scratch"
   ]
  },
  {
   "cell_type": "code",
   "execution_count": null,
   "id": "808e2920-90a5-4568-bb92-2b0e452e349b",
   "metadata": {},
   "outputs": [],
   "source": [
    "TrainOutput(global_step=1, training_loss=1.4079625606536865, metrics={'train_runtime': 8.9765, 'train_samples_per_second': 3.565, 'train_steps_per_second': 0.111, 'total_flos': 347617290092544.0, 'train_loss': 1.4079625606536865, 'epoch': 0.0})"
   ]
  },
  {
   "cell_type": "code",
   "execution_count": null,
   "id": "c44775a0-98a4-4cf1-b6fd-656c946be1e7",
   "metadata": {},
   "outputs": [],
   "source": [
    "TrainOutput(global_step=1, training_loss=1.3675713539123535, metrics={'train_runtime': 5.8143, 'train_samples_per_second': 2.752, 'train_steps_per_second': 0.172, 'total_flos': 173808645046272.0, 'train_loss': 1.3675713539123535, 'epoch': 0.0})"
   ]
  },
  {
   "cell_type": "code",
   "execution_count": 27,
   "id": "e4955aae-2437-475c-a6f2-e84644cfebb6",
   "metadata": {},
   "outputs": [],
   "source": [
    "torch.cuda.empty_cache()"
   ]
  },
  {
   "cell_type": "markdown",
   "id": "18af63fe-948e-4773-81d3-2c294363cdec",
   "metadata": {},
   "source": [
    "Old results"
   ]
  },
  {
   "cell_type": "code",
   "execution_count": null,
   "id": "ba459f57-7d4e-4b1d-a2a7-aa7b412c3e53",
   "metadata": {},
   "outputs": [],
   "source": [
    "TrainOutput(global_step=1, training_loss=1.3281042575836182, metrics={'train_runtime': 90.2485, 'train_samples_per_second': 2.837, 'train_steps_per_second': 0.011, 'total_flos': 2780938320740352.0, 'train_loss': 1.3281042575836182, 'epoch': 0.03})"
   ]
  },
  {
   "cell_type": "code",
   "execution_count": null,
   "id": "0dd3143f-3171-4be3-9158-11ae7589d37b",
   "metadata": {},
   "outputs": [],
   "source": [
    "TrainOutput(global_step=1, training_loss=1.3781038522720337, metrics={'train_runtime': 47.5515, 'train_samples_per_second': 2.692, 'train_steps_per_second': 0.021, 'total_flos': 1390469160370176.0, 'train_loss': 1.3781038522720337, 'epoch': 0.01})"
   ]
  },
  {
   "cell_type": "code",
   "execution_count": null,
   "id": "0e6ccbab-c931-4915-9bf4-979d82b55d0a",
   "metadata": {},
   "outputs": [],
   "source": [
    "TrainOutput(global_step=8, training_loss=1.228801965713501, metrics={'train_runtime': 58.1652, 'train_samples_per_second': 2.201, 'train_steps_per_second': 0.138, 'total_flos': 1390320931749888.0, 'train_loss': 1.228801965713501, 'epoch': 0.01})"
   ]
  }
 ],
 "metadata": {
  "kernelspec": {
   "display_name": "Python 3 (ipykernel)",
   "language": "python",
   "name": "python3"
  },
  "language_info": {
   "codemirror_mode": {
    "name": "ipython",
    "version": 3
   },
   "file_extension": ".py",
   "mimetype": "text/x-python",
   "name": "python",
   "nbconvert_exporter": "python",
   "pygments_lexer": "ipython3",
   "version": "3.10.6"
  }
 },
 "nbformat": 4,
 "nbformat_minor": 5
}
